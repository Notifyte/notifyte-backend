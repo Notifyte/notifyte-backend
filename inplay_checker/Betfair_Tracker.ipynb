{
 "cells": [
  {
   "cell_type": "code",
   "execution_count": 1,
   "metadata": {},
   "outputs": [
    {
     "name": "stderr",
     "output_type": "stream",
     "text": [
      "C:\\Users\\patrick.tinsley\\AppData\\Local\\Packages\\PythonSoftwareFoundation.Python.3.12_qbz5n2kfra8p0\\LocalCache\\local-packages\\Python312\\site-packages\\fuzzywuzzy\\fuzz.py:11: UserWarning: Using slow pure-python SequenceMatcher. Install python-Levenshtein to remove this warning\n",
      "  warnings.warn('Using slow pure-python SequenceMatcher. Install python-Levenshtein to remove this warning')\n"
     ]
    }
   ],
   "source": [
    "import sys\n",
    "sys.path.append(\"..\")\n",
    "from shared_utilities.Betfair import BetfairClient\n",
    "from azure.cosmos import CosmosClient\n",
    "import shared_utilities.helpers as helpers\n",
    "import time"
   ]
  },
  {
   "cell_type": "code",
   "execution_count": 2,
   "metadata": {},
   "outputs": [],
   "source": [
    "# Do I read table first before upserting?"
   ]
  },
  {
   "cell_type": "code",
   "execution_count": 3,
   "metadata": {},
   "outputs": [],
   "source": [
    "delay_api_key = helpers.read_json(\"../local.settings.json\")[\"Values\"][\"betfair_delay_api_key\"]\n",
    "betfair_username = helpers.read_json(\"../local.settings.json\")[\"Values\"][\"betfair_username\"]\n",
    "betfair_password = helpers.read_json(\"../local.settings.json\")[\"Values\"][\"betfair_password\"]\n",
    "mma_id = 26420387\n",
    "boxing_id = 6\n",
    "horse_racing_id = 7"
   ]
  },
  {
   "cell_type": "code",
   "execution_count": 4,
   "metadata": {},
   "outputs": [],
   "source": [
    "bf_client = BetfairClient(api_key=delay_api_key, username=betfair_username, password=betfair_password)"
   ]
  },
  {
   "cell_type": "code",
   "execution_count": 5,
   "metadata": {},
   "outputs": [
    {
     "data": {
      "text/plain": [
       "[{'event': {'id': '32980151',\n",
       "   'name': 'Oban Elliott v Val Woodburn',\n",
       "   'countryCode': 'GB',\n",
       "   'timezone': 'GMT',\n",
       "   'openDate': '2024-02-17T23:35:00.000Z'},\n",
       "  'marketCount': 1},\n",
       " {'event': {'id': '32894100',\n",
       "   'name': 'Merab Dvalishvili v Henry Cejudo',\n",
       "   'countryCode': 'GB',\n",
       "   'timezone': 'GMT',\n",
       "   'openDate': '2024-02-18T03:45:00.000Z'},\n",
       "  'marketCount': 4},\n",
       " {'event': {'id': '32980147',\n",
       "   'name': 'Rinya Nakamura v Carlos Vera',\n",
       "   'countryCode': 'GB',\n",
       "   'timezone': 'GMT',\n",
       "   'openDate': '2024-02-18T01:35:00.000Z'},\n",
       "  'marketCount': 4},\n",
       " {'event': {'id': '32894099',\n",
       "   'name': 'Robert Whittaker v Paulo Costa',\n",
       "   'countryCode': 'GB',\n",
       "   'timezone': 'GMT',\n",
       "   'openDate': '2024-02-18T04:45:00.000Z'},\n",
       "  'marketCount': 4},\n",
       " {'event': {'id': '32894098',\n",
       "   'name': 'Geoff Neal v Ian Garry',\n",
       "   'countryCode': 'GB',\n",
       "   'timezone': 'GMT',\n",
       "   'openDate': '2024-02-18T04:15:00.000Z'},\n",
       "  'marketCount': 4},\n",
       " {'event': {'id': '32947665',\n",
       "   'name': 'Amanda Lemos v Mackenzie Dern',\n",
       "   'countryCode': 'GB',\n",
       "   'timezone': 'GMT',\n",
       "   'openDate': '2024-02-18T02:30:00.000Z'},\n",
       "  'marketCount': 4},\n",
       " {'event': {'id': '32834431',\n",
       "   'name': 'Alexander Volkanovski v Ilia Topuria',\n",
       "   'countryCode': 'GB',\n",
       "   'timezone': 'GMT',\n",
       "   'openDate': '2024-02-18T05:15:00.000Z'},\n",
       "  'marketCount': 4},\n",
       " {'event': {'id': '32927748',\n",
       "   'name': 'Andrea Lee v Miranda Maverick',\n",
       "   'countryCode': 'GB',\n",
       "   'timezone': 'GMT',\n",
       "   'openDate': '2024-02-17T23:10:00.000Z'},\n",
       "  'marketCount': 1},\n",
       " {'event': {'id': '32980163',\n",
       "   'name': 'Josh Quinlan v Danny Barlow',\n",
       "   'countryCode': 'GB',\n",
       "   'timezone': 'GMT',\n",
       "   'openDate': '2024-02-18T00:00:00.000Z'},\n",
       "  'marketCount': 1},\n",
       " {'event': {'id': '32927746',\n",
       "   'name': 'Marcos Rogerio de Lima v Justin Tafa',\n",
       "   'countryCode': 'GB',\n",
       "   'timezone': 'GMT',\n",
       "   'openDate': '2024-02-18T02:05:00.000Z'},\n",
       "  'marketCount': 4},\n",
       " {'event': {'id': '32927747',\n",
       "   'name': 'Zhang Mingyang v Brendson Ribeiro',\n",
       "   'countryCode': 'GB',\n",
       "   'timezone': 'GMT',\n",
       "   'openDate': '2024-02-18T01:10:00.000Z'},\n",
       "  'marketCount': 4},\n",
       " {'event': {'id': '32834445',\n",
       "   'name': \"Sean O'Malley v Marlon Vera\",\n",
       "   'countryCode': 'GB',\n",
       "   'timezone': 'GMT',\n",
       "   'openDate': '2024-03-10T04:00:00.000Z'},\n",
       "  'marketCount': 2},\n",
       " {'event': {'id': '32959214',\n",
       "   'name': 'Brandon Moreno v Brandon Royval',\n",
       "   'countryCode': 'GB',\n",
       "   'timezone': 'GMT',\n",
       "   'openDate': '2024-02-25T05:00:00.000Z'},\n",
       "  'marketCount': 1},\n",
       " {'event': {'id': '32988652',\n",
       "   'name': 'Anthony Hernandez v Roman Kopylov',\n",
       "   'countryCode': 'GB',\n",
       "   'timezone': 'GMT',\n",
       "   'openDate': '2024-02-18T03:15:00.000Z'},\n",
       "  'marketCount': 4}]"
      ]
     },
     "execution_count": 5,
     "metadata": {},
     "output_type": "execute_result"
    }
   ],
   "source": [
    "bf_client.listEvents(mma_id)"
   ]
  },
  {
   "cell_type": "code",
   "execution_count": 6,
   "metadata": {},
   "outputs": [],
   "source": [
    "# test = bf_client.getMarkets(event_ids=[32998380,32997720],inplay_markets=\"False\")\n",
    "# test\n",
    "# id_list = []\n",
    "# for i in test[0][\"result\"]:\n",
    "#     id_list.append(i[\"event\"][\"id\"])\n",
    "# id_list"
   ]
  },
  {
   "cell_type": "code",
   "execution_count": 7,
   "metadata": {},
   "outputs": [],
   "source": [
    "# print(bf_client.getMarkets([33018992],False))\n",
    "# print(bf_client.getMarkets([33018992],True))"
   ]
  },
  {
   "cell_type": "code",
   "execution_count": 8,
   "metadata": {},
   "outputs": [
    {
     "name": "stdout",
     "output_type": "stream",
     "text": [
      "Event has not started yet\n"
     ]
    }
   ],
   "source": [
    "bf_client.eventStartedChecker([32946147])\n"
   ]
  },
  {
   "cell_type": "code",
   "execution_count": 9,
   "metadata": {},
   "outputs": [],
   "source": [
    "from datetime import datetime"
   ]
  },
  {
   "cell_type": "code",
   "execution_count": 10,
   "metadata": {},
   "outputs": [
    {
     "data": {
      "text/plain": [
       "('2024-02-17', '2024-02-18', '2024-02-19')"
      ]
     },
     "execution_count": 10,
     "metadata": {},
     "output_type": "execute_result"
    }
   ],
   "source": [
    "# # if timezone == GMT\n",
    "# atime= \"2024-02-04T02:30:00.000Z\"\n",
    "# datetime.strptime(atime, '%Y-%m-%dT%H:%M:%S.%fZ')\n",
    "helpers.find_next_weekend()"
   ]
  },
  {
   "cell_type": "code",
   "execution_count": 11,
   "metadata": {},
   "outputs": [],
   "source": [
    "conn_string = helpers.read_json(\"../local.settings.json\")[\"Values\"][\"cosmosdb_deets\"]\n",
    "storageClient = CosmosClient.from_connection_string(conn_str=conn_string)\n",
    "database = storageClient.get_database_client(\"fightstore\")\n",
    "fc_mma_cards = database.get_container_client(\"fc_mma_cards\")\n",
    "\n",
    "next_saturday, next_sunday, next_monday = helpers.find_next_weekend()\n",
    "\n",
    "# select next weekend card order by \n",
    "\n",
    "\n",
    "queryText = f\"\"\"\n",
    "SELECT  c.title\n",
    "       ,c.date\n",
    "       ,c.id\n",
    "       ,c.cardDate\n",
    "       ,c.link\n",
    "       ,cx.betfair_event_id\n",
    "       ,cx.fight_name\n",
    "       ,cx.betfair_open_date\n",
    "FROM   c\n",
    "JOIN   cx IN c.fights\n",
    "WHERE cx.betfair_open_date BETWEEN '{next_saturday}' AND '{next_monday}'\n",
    "\"\"\"\n",
    "\n",
    "results = fc_mma_cards.query_items(query=queryText, enable_cross_partition_query=True)"
   ]
  },
  {
   "cell_type": "code",
   "execution_count": 12,
   "metadata": {},
   "outputs": [
    {
     "data": {
      "text/plain": [
       "'2024-02-18'"
      ]
     },
     "execution_count": 12,
     "metadata": {},
     "output_type": "execute_result"
    }
   ],
   "source": [
    "next_sunday"
   ]
  },
  {
   "cell_type": "code",
   "execution_count": 13,
   "metadata": {},
   "outputs": [],
   "source": [
    "items = [item for item in results]"
   ]
  },
  {
   "cell_type": "code",
   "execution_count": 14,
   "metadata": {},
   "outputs": [
    {
     "data": {
      "text/plain": [
       "[{'title': 'UFC 298',\n",
       "  'date': 'Saturday, February 17,  6:30 PM ET',\n",
       "  'id': '7840535991427417239',\n",
       "  'cardDate': '2024-02-17',\n",
       "  'link': 'https://www.tapology.com/fightcenter/events/107060-ufc-298',\n",
       "  'betfair_event_id': '32834431',\n",
       "  'fight_name': 'Alexander Volkanovski v Ilia Topuria',\n",
       "  'betfair_open_date': '2024-02-18T05:15:00.000Z'},\n",
       " {'title': 'UFC 298',\n",
       "  'date': 'Saturday, February 17,  6:30 PM ET',\n",
       "  'id': '7840535991427417239',\n",
       "  'cardDate': '2024-02-17',\n",
       "  'link': 'https://www.tapology.com/fightcenter/events/107060-ufc-298',\n",
       "  'betfair_event_id': '32894099',\n",
       "  'fight_name': 'Robert Whittaker v Paulo Costa',\n",
       "  'betfair_open_date': '2024-02-18T04:45:00.000Z'},\n",
       " {'title': 'UFC 298',\n",
       "  'date': 'Saturday, February 17,  6:30 PM ET',\n",
       "  'id': '7840535991427417239',\n",
       "  'cardDate': '2024-02-17',\n",
       "  'link': 'https://www.tapology.com/fightcenter/events/107060-ufc-298',\n",
       "  'betfair_event_id': '32894098',\n",
       "  'fight_name': 'Geoff Neal v Ian Machado Garry',\n",
       "  'betfair_open_date': '2024-02-18T04:15:00.000Z'},\n",
       " {'title': 'UFC 298',\n",
       "  'date': 'Saturday, February 17,  6:30 PM ET',\n",
       "  'id': '7840535991427417239',\n",
       "  'cardDate': '2024-02-17',\n",
       "  'link': 'https://www.tapology.com/fightcenter/events/107060-ufc-298',\n",
       "  'betfair_event_id': '32894100',\n",
       "  'fight_name': 'Merab Dvalishvili v Henry Cejudo',\n",
       "  'betfair_open_date': '2024-02-18T03:45:00.000Z'},\n",
       " {'title': 'UFC 298',\n",
       "  'date': 'Saturday, February 17,  6:30 PM ET',\n",
       "  'id': '7840535991427417239',\n",
       "  'cardDate': '2024-02-17',\n",
       "  'link': 'https://www.tapology.com/fightcenter/events/107060-ufc-298',\n",
       "  'betfair_event_id': '32988652',\n",
       "  'fight_name': 'Anthony Hernandez v Roman Kopylov',\n",
       "  'betfair_open_date': '2024-02-18T03:15:00.000Z'},\n",
       " {'title': 'UFC 298',\n",
       "  'date': 'Saturday, February 17,  6:30 PM ET',\n",
       "  'id': '7840535991427417239',\n",
       "  'cardDate': '2024-02-17',\n",
       "  'link': 'https://www.tapology.com/fightcenter/events/107060-ufc-298',\n",
       "  'betfair_event_id': '32947665',\n",
       "  'fight_name': 'Amanda Lemos v Mackenzie Dern',\n",
       "  'betfair_open_date': '2024-02-18T02:30:00.000Z'},\n",
       " {'title': 'UFC 298',\n",
       "  'date': 'Saturday, February 17,  6:30 PM ET',\n",
       "  'id': '7840535991427417239',\n",
       "  'cardDate': '2024-02-17',\n",
       "  'link': 'https://www.tapology.com/fightcenter/events/107060-ufc-298',\n",
       "  'betfair_event_id': '32927746',\n",
       "  'fight_name': 'Marcos Rogério de Lima v Justin Tafa',\n",
       "  'betfair_open_date': '2024-02-18T02:05:00.000Z'},\n",
       " {'title': 'UFC 298',\n",
       "  'date': 'Saturday, February 17,  6:30 PM ET',\n",
       "  'id': '7840535991427417239',\n",
       "  'cardDate': '2024-02-17',\n",
       "  'link': 'https://www.tapology.com/fightcenter/events/107060-ufc-298',\n",
       "  'betfair_event_id': '32980147',\n",
       "  'fight_name': 'Rinya Nakamura v Carlos Vera',\n",
       "  'betfair_open_date': '2024-02-18T01:35:00.000Z'},\n",
       " {'title': 'UFC 298',\n",
       "  'date': 'Saturday, February 17,  6:30 PM ET',\n",
       "  'id': '7840535991427417239',\n",
       "  'cardDate': '2024-02-17',\n",
       "  'link': 'https://www.tapology.com/fightcenter/events/107060-ufc-298',\n",
       "  'betfair_event_id': '32927747',\n",
       "  'fight_name': 'Mingyang Zhang v Brendson Ribeiro',\n",
       "  'betfair_open_date': '2024-02-18T01:10:00.000Z'},\n",
       " {'title': 'UFC 298',\n",
       "  'date': 'Saturday, February 17,  6:30 PM ET',\n",
       "  'id': '7840535991427417239',\n",
       "  'cardDate': '2024-02-17',\n",
       "  'link': 'https://www.tapology.com/fightcenter/events/107060-ufc-298',\n",
       "  'betfair_event_id': '32980163',\n",
       "  'fight_name': 'Josh Quinlan v Danny Barlow',\n",
       "  'betfair_open_date': '2024-02-18T00:00:00.000Z'},\n",
       " {'title': 'UFC 298',\n",
       "  'date': 'Saturday, February 17,  6:30 PM ET',\n",
       "  'id': '7840535991427417239',\n",
       "  'cardDate': '2024-02-17',\n",
       "  'link': 'https://www.tapology.com/fightcenter/events/107060-ufc-298',\n",
       "  'betfair_event_id': '32980151',\n",
       "  'fight_name': 'Val Woodburn v Oban Elliott',\n",
       "  'betfair_open_date': '2024-02-17T23:35:00.000Z'},\n",
       " {'title': 'UFC 298',\n",
       "  'date': 'Saturday, February 17,  6:30 PM ET',\n",
       "  'id': '7840535991427417239',\n",
       "  'cardDate': '2024-02-17',\n",
       "  'link': 'https://www.tapology.com/fightcenter/events/107060-ufc-298',\n",
       "  'betfair_event_id': '32927748',\n",
       "  'fight_name': 'Andrea Lee v Miranda Maverick',\n",
       "  'betfair_open_date': '2024-02-17T23:10:00.000Z'}]"
      ]
     },
     "execution_count": 14,
     "metadata": {},
     "output_type": "execute_result"
    }
   ],
   "source": [
    "items"
   ]
  },
  {
   "cell_type": "code",
   "execution_count": 15,
   "metadata": {},
   "outputs": [],
   "source": [
    "# items.sort(key=lambda item:item['betfair_open_date'], reverse=True) # can't do this because it changes the index for writing to cosmos"
   ]
  },
  {
   "cell_type": "code",
   "execution_count": 16,
   "metadata": {},
   "outputs": [
    {
     "data": {
      "text/plain": [
       "1707953023"
      ]
     },
     "execution_count": 16,
     "metadata": {},
     "output_type": "execute_result"
    }
   ],
   "source": [
    "int(time.time())"
   ]
  },
  {
   "cell_type": "code",
   "execution_count": 17,
   "metadata": {},
   "outputs": [
    {
     "name": "stdout",
     "output_type": "stream",
     "text": [
      "Event has not started yet\n",
      "Event has not started yet\n",
      "Event has not started yet\n",
      "Event has not started yet\n",
      "Event has not started yet\n",
      "Event has not started yet\n",
      "Event has not started yet\n",
      "Event has not started yet\n",
      "Event has not started yet\n",
      "Event has not started yet\n",
      "Event has not started yet\n",
      "Event has not started yet\n",
      "Event has not started yet\n",
      "Event has not started yet\n",
      "Event has not started yet\n",
      "Event has not started yet\n",
      "Event has not started yet\n",
      "Event has not started yet\n",
      "Event has not started yet\n",
      "Event has not started yet\n",
      "Event has not started yet\n",
      "Event has not started yet\n",
      "Event has not started yet\n",
      "Event has not started yet\n",
      "Event has not started yet\n",
      "Event has not started yet\n",
      "Event has not started yet\n",
      "Event has not started yet\n",
      "Event has not started yet\n",
      "Event has not started yet\n",
      "Event has not started yet\n",
      "Event has not started yet\n",
      "Event has not started yet\n",
      "Event has not started yet\n",
      "Event has not started yet\n",
      "Event has not started yet\n",
      "Event has not started yet\n",
      "Event has not started yet\n",
      "Event has not started yet\n",
      "Event has not started yet\n",
      "Event has not started yet\n",
      "Event has not started yet\n",
      "Event has not started yet\n",
      "Event has not started yet\n",
      "Event has not started yet\n",
      "Event has not started yet\n",
      "Event has not started yet\n",
      "Event has not started yet\n",
      "Event has not started yet\n",
      "Event has not started yet\n",
      "Event has not started yet\n",
      "Event has not started yet\n",
      "Event has not started yet\n",
      "Event has not started yet\n",
      "Event has not started yet\n",
      "Event has not started yet\n",
      "Event has not started yet\n",
      "Event has not started yet\n",
      "Event has not started yet\n",
      "Event has not started yet\n",
      "Event has not started yet\n",
      "Event has not started yet\n",
      "Event has not started yet\n",
      "Event has not started yet\n",
      "Event has not started yet\n",
      "Event has not started yet\n",
      "Event has not started yet\n",
      "Event has not started yet\n",
      "Event has not started yet\n",
      "Event has not started yet\n",
      "Event has not started yet\n",
      "Event has not started yet\n",
      "Event has not started yet\n",
      "Event has not started yet\n",
      "Event has not started yet\n",
      "Event has not started yet\n",
      "Event has not started yet\n",
      "Event has not started yet\n",
      "Event has not started yet\n",
      "Event has not started yet\n",
      "Event has not started yet\n",
      "Event has not started yet\n",
      "Event has not started yet\n",
      "Event has not started yet\n",
      "Event has not started yet\n",
      "Event has not started yet\n",
      "Event has not started yet\n",
      "Event has not started yet\n",
      "Event has not started yet\n",
      "Event has not started yet\n",
      "Event has not started yet\n",
      "Event has not started yet\n",
      "Event has not started yet\n",
      "Event has not started yet\n",
      "Event has not started yet\n",
      "Event has not started yet\n",
      "Event has not started yet\n",
      "Event has not started yet\n",
      "Event has not started yet\n",
      "Event has not started yet\n",
      "Event has not started yet\n",
      "Event has not started yet\n",
      "Event has not started yet\n",
      "Event has not started yet\n",
      "Event has not started yet\n",
      "Event has not started yet\n",
      "Event has not started yet\n",
      "Event has not started yet\n",
      "Event has not started yet\n",
      "Event has not started yet\n",
      "Event has not started yet\n",
      "Event has not started yet\n",
      "Event has not started yet\n",
      "Event has not started yet\n",
      "Event has not started yet\n",
      "Event has not started yet\n",
      "Event has not started yet\n",
      "Event has not started yet\n",
      "Event has not started yet\n",
      "Event has not started yet\n",
      "Event has not started yet\n",
      "Event has not started yet\n",
      "Event has not started yet\n",
      "Event has not started yet\n",
      "Event has not started yet\n",
      "Event has not started yet\n",
      "Event has not started yet\n",
      "Event has not started yet\n",
      "Event has not started yet\n",
      "Event has not started yet\n",
      "Event has not started yet\n",
      "Event has not started yet\n",
      "Event has not started yet\n",
      "Event has not started yet\n",
      "Event has not started yet\n",
      "Event has not started yet\n",
      "Event has not started yet\n",
      "Event has not started yet\n",
      "Event has not started yet\n"
     ]
    },
    {
     "ename": "KeyboardInterrupt",
     "evalue": "",
     "output_type": "error",
     "traceback": [
      "\u001b[1;31m---------------------------------------------------------------------------\u001b[0m",
      "\u001b[1;31mKeyboardInterrupt\u001b[0m                         Traceback (most recent call last)",
      "Cell \u001b[1;32mIn[17], line 4\u001b[0m\n\u001b[0;32m      2\u001b[0m \u001b[38;5;28;01mwhile\u001b[39;00m time\u001b[38;5;241m.\u001b[39mtime() \u001b[38;5;241m<\u001b[39m t_end:\n\u001b[0;32m      3\u001b[0m     \u001b[38;5;28;01mfor\u001b[39;00m idx, item \u001b[38;5;129;01min\u001b[39;00m  \u001b[38;5;28menumerate\u001b[39m(items):\n\u001b[1;32m----> 4\u001b[0m         \u001b[38;5;28;01mif\u001b[39;00m \u001b[43mbf_client\u001b[49m\u001b[38;5;241;43m.\u001b[39;49m\u001b[43meventStartedChecker\u001b[49m\u001b[43m(\u001b[49m\u001b[43mitem\u001b[49m\u001b[43m[\u001b[49m\u001b[38;5;124;43m\"\u001b[39;49m\u001b[38;5;124;43mbetfair_event_id\u001b[39;49m\u001b[38;5;124;43m\"\u001b[39;49m\u001b[43m]\u001b[49m\u001b[43m)\u001b[49m \u001b[38;5;241m==\u001b[39m \u001b[38;5;28;01mTrue\u001b[39;00m:\n\u001b[0;32m      5\u001b[0m             operations \u001b[38;5;241m=\u001b[39m[{ \u001b[38;5;124m\"\u001b[39m\u001b[38;5;124mop\u001b[39m\u001b[38;5;124m\"\u001b[39m: \u001b[38;5;124m\"\u001b[39m\u001b[38;5;124madd\u001b[39m\u001b[38;5;124m\"\u001b[39m, \u001b[38;5;124m\"\u001b[39m\u001b[38;5;124mpath\u001b[39m\u001b[38;5;124m\"\u001b[39m: \u001b[38;5;124m\"\u001b[39m\u001b[38;5;124m/fights/\u001b[39m\u001b[38;5;124m\"\u001b[39m\u001b[38;5;241m+\u001b[39m\u001b[38;5;28mstr\u001b[39m(idx)\u001b[38;5;241m+\u001b[39m\u001b[38;5;124m\"\u001b[39m\u001b[38;5;124m/fight_start_time\u001b[39m\u001b[38;5;124m\"\u001b[39m, \u001b[38;5;124m\"\u001b[39m\u001b[38;5;124mvalue\u001b[39m\u001b[38;5;124m\"\u001b[39m: \u001b[38;5;28mint\u001b[39m(time\u001b[38;5;241m.\u001b[39mtime()) }]\n\u001b[0;32m      6\u001b[0m             response \u001b[38;5;241m=\u001b[39m fc_mma_cards\u001b[38;5;241m.\u001b[39mpatch_item(item\u001b[38;5;241m=\u001b[39mitem[\u001b[38;5;124m\"\u001b[39m\u001b[38;5;124mid\u001b[39m\u001b[38;5;124m\"\u001b[39m], partition_key\u001b[38;5;241m=\u001b[39mitem[\u001b[38;5;124m\"\u001b[39m\u001b[38;5;124mlink\u001b[39m\u001b[38;5;124m\"\u001b[39m], patch_operations\u001b[38;5;241m=\u001b[39moperations)\n",
      "File \u001b[1;32mc:\\Users\\patrick.tinsley\\workspaces\\fight_notify_funcapp\\inplay_checker\\..\\shared_utilities\\Betfair.py:144\u001b[0m, in \u001b[0;36mBetfairClient.eventStartedChecker\u001b[1;34m(self, event_ids)\u001b[0m\n\u001b[0;32m    143\u001b[0m \u001b[38;5;28;01mdef\u001b[39;00m \u001b[38;5;21meventStartedChecker\u001b[39m(\u001b[38;5;28mself\u001b[39m,event_ids): \n\u001b[1;32m--> 144\u001b[0m     inplay_true \u001b[38;5;241m=\u001b[39m \u001b[38;5;28;43mself\u001b[39;49m\u001b[38;5;241;43m.\u001b[39;49m\u001b[43mgetMarkets\u001b[49m\u001b[43m(\u001b[49m\u001b[43mevent_ids\u001b[49m\u001b[43m,\u001b[49m\u001b[38;5;124;43m\"\u001b[39;49m\u001b[38;5;124;43mTrue\u001b[39;49m\u001b[38;5;124;43m\"\u001b[39;49m\u001b[43m)\u001b[49m[\u001b[38;5;241m0\u001b[39m] \u001b[38;5;66;03m# [\"result\"] # add for solo debugging \u001b[39;00m\n\u001b[0;32m    145\u001b[0m     inplay_false \u001b[38;5;241m=\u001b[39m \u001b[38;5;28mself\u001b[39m\u001b[38;5;241m.\u001b[39mgetMarkets(event_ids,\u001b[38;5;124m\"\u001b[39m\u001b[38;5;124mFalse\u001b[39m\u001b[38;5;124m\"\u001b[39m)[\u001b[38;5;241m0\u001b[39m] \u001b[38;5;66;03m# [\"result\"] # add for solo debugging \u001b[39;00m\n\u001b[0;32m    146\u001b[0m     \u001b[38;5;66;03m# logic to check if an event has started or not? Tested with Horse racing / may need to test with different event types \u001b[39;00m\n",
      "File \u001b[1;32mc:\\Users\\patrick.tinsley\\workspaces\\fight_notify_funcapp\\inplay_checker\\..\\shared_utilities\\Betfair.py:115\u001b[0m, in \u001b[0;36mBetfairClient.getMarkets\u001b[1;34m(self, event_ids, inplay_markets)\u001b[0m\n\u001b[0;32m     90\u001b[0m \u001b[38;5;28;01mdef\u001b[39;00m \u001b[38;5;21mgetMarkets\u001b[39m(\u001b[38;5;28mself\u001b[39m, event_ids, inplay_markets):\n\u001b[0;32m     92\u001b[0m     body \u001b[38;5;241m=\u001b[39m [\n\u001b[0;32m     93\u001b[0m     {\n\u001b[0;32m     94\u001b[0m         \u001b[38;5;124m\"\u001b[39m\u001b[38;5;124mjsonrpc\u001b[39m\u001b[38;5;124m\"\u001b[39m: \u001b[38;5;124m\"\u001b[39m\u001b[38;5;124m2.0\u001b[39m\u001b[38;5;124m\"\u001b[39m,\n\u001b[1;32m   (...)\u001b[0m\n\u001b[0;32m    113\u001b[0m     }\n\u001b[0;32m    114\u001b[0m     ]\n\u001b[1;32m--> 115\u001b[0m     \u001b[38;5;28;01mreturn\u001b[39;00m \u001b[38;5;28;43mself\u001b[39;49m\u001b[38;5;241;43m.\u001b[39;49m\u001b[43mrpcQuery\u001b[49m\u001b[43m(\u001b[49m\u001b[43mbody\u001b[49m\u001b[43m)\u001b[49m\n",
      "File \u001b[1;32mc:\\Users\\patrick.tinsley\\workspaces\\fight_notify_funcapp\\inplay_checker\\..\\shared_utilities\\Betfair.py:55\u001b[0m, in \u001b[0;36mBetfairClient.rpcQuery\u001b[1;34m(self, body)\u001b[0m\n\u001b[0;32m     52\u001b[0m \u001b[38;5;28;01mdef\u001b[39;00m \u001b[38;5;21mrpcQuery\u001b[39m(\u001b[38;5;28mself\u001b[39m, body):\n\u001b[0;32m     53\u001b[0m     \u001b[38;5;66;03m# turnInPlayEnabled - what does this do can we use it?\u001b[39;00m\n\u001b[0;32m     54\u001b[0m     url \u001b[38;5;241m=\u001b[39m \u001b[38;5;124m\"\u001b[39m\u001b[38;5;124mhttps://api.betfair.com/betting/json-rpc/v1\u001b[39m\u001b[38;5;124m\"\u001b[39m\n\u001b[1;32m---> 55\u001b[0m     response \u001b[38;5;241m=\u001b[39m \u001b[43mrequests\u001b[49m\u001b[38;5;241;43m.\u001b[39;49m\u001b[43mpost\u001b[49m\u001b[43m(\u001b[49m\u001b[43murl\u001b[49m\u001b[38;5;241;43m=\u001b[39;49m\u001b[43murl\u001b[49m\u001b[43m,\u001b[49m\u001b[43mdata\u001b[49m\u001b[38;5;241;43m=\u001b[39;49m\u001b[43mjson\u001b[49m\u001b[38;5;241;43m.\u001b[39;49m\u001b[43mdumps\u001b[49m\u001b[43m(\u001b[49m\u001b[43mbody\u001b[49m\u001b[43m)\u001b[49m\u001b[43m,\u001b[49m\u001b[43m \u001b[49m\u001b[43mheaders\u001b[49m\u001b[38;5;241;43m=\u001b[39;49m\u001b[38;5;28;43mself\u001b[39;49m\u001b[38;5;241;43m.\u001b[39;49m\u001b[43mheader\u001b[49m\u001b[43m)\u001b[49m\n\u001b[0;32m     56\u001b[0m     \u001b[38;5;28;01mreturn\u001b[39;00m json\u001b[38;5;241m.\u001b[39mloads(response\u001b[38;5;241m.\u001b[39mtext)\n",
      "File \u001b[1;32m~\\AppData\\Local\\Packages\\PythonSoftwareFoundation.Python.3.12_qbz5n2kfra8p0\\LocalCache\\local-packages\\Python312\\site-packages\\requests\\api.py:115\u001b[0m, in \u001b[0;36mpost\u001b[1;34m(url, data, json, **kwargs)\u001b[0m\n\u001b[0;32m    103\u001b[0m \u001b[38;5;28;01mdef\u001b[39;00m \u001b[38;5;21mpost\u001b[39m(url, data\u001b[38;5;241m=\u001b[39m\u001b[38;5;28;01mNone\u001b[39;00m, json\u001b[38;5;241m=\u001b[39m\u001b[38;5;28;01mNone\u001b[39;00m, \u001b[38;5;241m*\u001b[39m\u001b[38;5;241m*\u001b[39mkwargs):\n\u001b[0;32m    104\u001b[0m \u001b[38;5;250m    \u001b[39m\u001b[38;5;124mr\u001b[39m\u001b[38;5;124;03m\"\"\"Sends a POST request.\u001b[39;00m\n\u001b[0;32m    105\u001b[0m \n\u001b[0;32m    106\u001b[0m \u001b[38;5;124;03m    :param url: URL for the new :class:`Request` object.\u001b[39;00m\n\u001b[1;32m   (...)\u001b[0m\n\u001b[0;32m    112\u001b[0m \u001b[38;5;124;03m    :rtype: requests.Response\u001b[39;00m\n\u001b[0;32m    113\u001b[0m \u001b[38;5;124;03m    \"\"\"\u001b[39;00m\n\u001b[1;32m--> 115\u001b[0m     \u001b[38;5;28;01mreturn\u001b[39;00m \u001b[43mrequest\u001b[49m\u001b[43m(\u001b[49m\u001b[38;5;124;43m\"\u001b[39;49m\u001b[38;5;124;43mpost\u001b[39;49m\u001b[38;5;124;43m\"\u001b[39;49m\u001b[43m,\u001b[49m\u001b[43m \u001b[49m\u001b[43murl\u001b[49m\u001b[43m,\u001b[49m\u001b[43m \u001b[49m\u001b[43mdata\u001b[49m\u001b[38;5;241;43m=\u001b[39;49m\u001b[43mdata\u001b[49m\u001b[43m,\u001b[49m\u001b[43m \u001b[49m\u001b[43mjson\u001b[49m\u001b[38;5;241;43m=\u001b[39;49m\u001b[43mjson\u001b[49m\u001b[43m,\u001b[49m\u001b[43m \u001b[49m\u001b[38;5;241;43m*\u001b[39;49m\u001b[38;5;241;43m*\u001b[39;49m\u001b[43mkwargs\u001b[49m\u001b[43m)\u001b[49m\n",
      "File \u001b[1;32m~\\AppData\\Local\\Packages\\PythonSoftwareFoundation.Python.3.12_qbz5n2kfra8p0\\LocalCache\\local-packages\\Python312\\site-packages\\requests\\api.py:59\u001b[0m, in \u001b[0;36mrequest\u001b[1;34m(method, url, **kwargs)\u001b[0m\n\u001b[0;32m     55\u001b[0m \u001b[38;5;66;03m# By using the 'with' statement we are sure the session is closed, thus we\u001b[39;00m\n\u001b[0;32m     56\u001b[0m \u001b[38;5;66;03m# avoid leaving sockets open which can trigger a ResourceWarning in some\u001b[39;00m\n\u001b[0;32m     57\u001b[0m \u001b[38;5;66;03m# cases, and look like a memory leak in others.\u001b[39;00m\n\u001b[0;32m     58\u001b[0m \u001b[38;5;28;01mwith\u001b[39;00m sessions\u001b[38;5;241m.\u001b[39mSession() \u001b[38;5;28;01mas\u001b[39;00m session:\n\u001b[1;32m---> 59\u001b[0m     \u001b[38;5;28;01mreturn\u001b[39;00m \u001b[43msession\u001b[49m\u001b[38;5;241;43m.\u001b[39;49m\u001b[43mrequest\u001b[49m\u001b[43m(\u001b[49m\u001b[43mmethod\u001b[49m\u001b[38;5;241;43m=\u001b[39;49m\u001b[43mmethod\u001b[49m\u001b[43m,\u001b[49m\u001b[43m \u001b[49m\u001b[43murl\u001b[49m\u001b[38;5;241;43m=\u001b[39;49m\u001b[43murl\u001b[49m\u001b[43m,\u001b[49m\u001b[43m \u001b[49m\u001b[38;5;241;43m*\u001b[39;49m\u001b[38;5;241;43m*\u001b[39;49m\u001b[43mkwargs\u001b[49m\u001b[43m)\u001b[49m\n",
      "File \u001b[1;32m~\\AppData\\Local\\Packages\\PythonSoftwareFoundation.Python.3.12_qbz5n2kfra8p0\\LocalCache\\local-packages\\Python312\\site-packages\\requests\\sessions.py:589\u001b[0m, in \u001b[0;36mSession.request\u001b[1;34m(self, method, url, params, data, headers, cookies, files, auth, timeout, allow_redirects, proxies, hooks, stream, verify, cert, json)\u001b[0m\n\u001b[0;32m    584\u001b[0m send_kwargs \u001b[38;5;241m=\u001b[39m {\n\u001b[0;32m    585\u001b[0m     \u001b[38;5;124m\"\u001b[39m\u001b[38;5;124mtimeout\u001b[39m\u001b[38;5;124m\"\u001b[39m: timeout,\n\u001b[0;32m    586\u001b[0m     \u001b[38;5;124m\"\u001b[39m\u001b[38;5;124mallow_redirects\u001b[39m\u001b[38;5;124m\"\u001b[39m: allow_redirects,\n\u001b[0;32m    587\u001b[0m }\n\u001b[0;32m    588\u001b[0m send_kwargs\u001b[38;5;241m.\u001b[39mupdate(settings)\n\u001b[1;32m--> 589\u001b[0m resp \u001b[38;5;241m=\u001b[39m \u001b[38;5;28;43mself\u001b[39;49m\u001b[38;5;241;43m.\u001b[39;49m\u001b[43msend\u001b[49m\u001b[43m(\u001b[49m\u001b[43mprep\u001b[49m\u001b[43m,\u001b[49m\u001b[43m \u001b[49m\u001b[38;5;241;43m*\u001b[39;49m\u001b[38;5;241;43m*\u001b[39;49m\u001b[43msend_kwargs\u001b[49m\u001b[43m)\u001b[49m\n\u001b[0;32m    591\u001b[0m \u001b[38;5;28;01mreturn\u001b[39;00m resp\n",
      "File \u001b[1;32m~\\AppData\\Local\\Packages\\PythonSoftwareFoundation.Python.3.12_qbz5n2kfra8p0\\LocalCache\\local-packages\\Python312\\site-packages\\requests\\sessions.py:703\u001b[0m, in \u001b[0;36mSession.send\u001b[1;34m(self, request, **kwargs)\u001b[0m\n\u001b[0;32m    700\u001b[0m start \u001b[38;5;241m=\u001b[39m preferred_clock()\n\u001b[0;32m    702\u001b[0m \u001b[38;5;66;03m# Send the request\u001b[39;00m\n\u001b[1;32m--> 703\u001b[0m r \u001b[38;5;241m=\u001b[39m \u001b[43madapter\u001b[49m\u001b[38;5;241;43m.\u001b[39;49m\u001b[43msend\u001b[49m\u001b[43m(\u001b[49m\u001b[43mrequest\u001b[49m\u001b[43m,\u001b[49m\u001b[43m \u001b[49m\u001b[38;5;241;43m*\u001b[39;49m\u001b[38;5;241;43m*\u001b[39;49m\u001b[43mkwargs\u001b[49m\u001b[43m)\u001b[49m\n\u001b[0;32m    705\u001b[0m \u001b[38;5;66;03m# Total elapsed time of the request (approximately)\u001b[39;00m\n\u001b[0;32m    706\u001b[0m elapsed \u001b[38;5;241m=\u001b[39m preferred_clock() \u001b[38;5;241m-\u001b[39m start\n",
      "File \u001b[1;32m~\\AppData\\Local\\Packages\\PythonSoftwareFoundation.Python.3.12_qbz5n2kfra8p0\\LocalCache\\local-packages\\Python312\\site-packages\\requests\\adapters.py:486\u001b[0m, in \u001b[0;36mHTTPAdapter.send\u001b[1;34m(self, request, stream, timeout, verify, cert, proxies)\u001b[0m\n\u001b[0;32m    483\u001b[0m     timeout \u001b[38;5;241m=\u001b[39m TimeoutSauce(connect\u001b[38;5;241m=\u001b[39mtimeout, read\u001b[38;5;241m=\u001b[39mtimeout)\n\u001b[0;32m    485\u001b[0m \u001b[38;5;28;01mtry\u001b[39;00m:\n\u001b[1;32m--> 486\u001b[0m     resp \u001b[38;5;241m=\u001b[39m \u001b[43mconn\u001b[49m\u001b[38;5;241;43m.\u001b[39;49m\u001b[43murlopen\u001b[49m\u001b[43m(\u001b[49m\n\u001b[0;32m    487\u001b[0m \u001b[43m        \u001b[49m\u001b[43mmethod\u001b[49m\u001b[38;5;241;43m=\u001b[39;49m\u001b[43mrequest\u001b[49m\u001b[38;5;241;43m.\u001b[39;49m\u001b[43mmethod\u001b[49m\u001b[43m,\u001b[49m\n\u001b[0;32m    488\u001b[0m \u001b[43m        \u001b[49m\u001b[43murl\u001b[49m\u001b[38;5;241;43m=\u001b[39;49m\u001b[43murl\u001b[49m\u001b[43m,\u001b[49m\n\u001b[0;32m    489\u001b[0m \u001b[43m        \u001b[49m\u001b[43mbody\u001b[49m\u001b[38;5;241;43m=\u001b[39;49m\u001b[43mrequest\u001b[49m\u001b[38;5;241;43m.\u001b[39;49m\u001b[43mbody\u001b[49m\u001b[43m,\u001b[49m\n\u001b[0;32m    490\u001b[0m \u001b[43m        \u001b[49m\u001b[43mheaders\u001b[49m\u001b[38;5;241;43m=\u001b[39;49m\u001b[43mrequest\u001b[49m\u001b[38;5;241;43m.\u001b[39;49m\u001b[43mheaders\u001b[49m\u001b[43m,\u001b[49m\n\u001b[0;32m    491\u001b[0m \u001b[43m        \u001b[49m\u001b[43mredirect\u001b[49m\u001b[38;5;241;43m=\u001b[39;49m\u001b[38;5;28;43;01mFalse\u001b[39;49;00m\u001b[43m,\u001b[49m\n\u001b[0;32m    492\u001b[0m \u001b[43m        \u001b[49m\u001b[43massert_same_host\u001b[49m\u001b[38;5;241;43m=\u001b[39;49m\u001b[38;5;28;43;01mFalse\u001b[39;49;00m\u001b[43m,\u001b[49m\n\u001b[0;32m    493\u001b[0m \u001b[43m        \u001b[49m\u001b[43mpreload_content\u001b[49m\u001b[38;5;241;43m=\u001b[39;49m\u001b[38;5;28;43;01mFalse\u001b[39;49;00m\u001b[43m,\u001b[49m\n\u001b[0;32m    494\u001b[0m \u001b[43m        \u001b[49m\u001b[43mdecode_content\u001b[49m\u001b[38;5;241;43m=\u001b[39;49m\u001b[38;5;28;43;01mFalse\u001b[39;49;00m\u001b[43m,\u001b[49m\n\u001b[0;32m    495\u001b[0m \u001b[43m        \u001b[49m\u001b[43mretries\u001b[49m\u001b[38;5;241;43m=\u001b[39;49m\u001b[38;5;28;43mself\u001b[39;49m\u001b[38;5;241;43m.\u001b[39;49m\u001b[43mmax_retries\u001b[49m\u001b[43m,\u001b[49m\n\u001b[0;32m    496\u001b[0m \u001b[43m        \u001b[49m\u001b[43mtimeout\u001b[49m\u001b[38;5;241;43m=\u001b[39;49m\u001b[43mtimeout\u001b[49m\u001b[43m,\u001b[49m\n\u001b[0;32m    497\u001b[0m \u001b[43m        \u001b[49m\u001b[43mchunked\u001b[49m\u001b[38;5;241;43m=\u001b[39;49m\u001b[43mchunked\u001b[49m\u001b[43m,\u001b[49m\n\u001b[0;32m    498\u001b[0m \u001b[43m    \u001b[49m\u001b[43m)\u001b[49m\n\u001b[0;32m    500\u001b[0m \u001b[38;5;28;01mexcept\u001b[39;00m (ProtocolError, \u001b[38;5;167;01mOSError\u001b[39;00m) \u001b[38;5;28;01mas\u001b[39;00m err:\n\u001b[0;32m    501\u001b[0m     \u001b[38;5;28;01mraise\u001b[39;00m \u001b[38;5;167;01mConnectionError\u001b[39;00m(err, request\u001b[38;5;241m=\u001b[39mrequest)\n",
      "File \u001b[1;32m~\\AppData\\Local\\Packages\\PythonSoftwareFoundation.Python.3.12_qbz5n2kfra8p0\\LocalCache\\local-packages\\Python312\\site-packages\\urllib3\\connectionpool.py:790\u001b[0m, in \u001b[0;36mHTTPConnectionPool.urlopen\u001b[1;34m(self, method, url, body, headers, retries, redirect, assert_same_host, timeout, pool_timeout, release_conn, chunked, body_pos, preload_content, decode_content, **response_kw)\u001b[0m\n\u001b[0;32m    787\u001b[0m response_conn \u001b[38;5;241m=\u001b[39m conn \u001b[38;5;28;01mif\u001b[39;00m \u001b[38;5;129;01mnot\u001b[39;00m release_conn \u001b[38;5;28;01melse\u001b[39;00m \u001b[38;5;28;01mNone\u001b[39;00m\n\u001b[0;32m    789\u001b[0m \u001b[38;5;66;03m# Make the request on the HTTPConnection object\u001b[39;00m\n\u001b[1;32m--> 790\u001b[0m response \u001b[38;5;241m=\u001b[39m \u001b[38;5;28;43mself\u001b[39;49m\u001b[38;5;241;43m.\u001b[39;49m\u001b[43m_make_request\u001b[49m\u001b[43m(\u001b[49m\n\u001b[0;32m    791\u001b[0m \u001b[43m    \u001b[49m\u001b[43mconn\u001b[49m\u001b[43m,\u001b[49m\n\u001b[0;32m    792\u001b[0m \u001b[43m    \u001b[49m\u001b[43mmethod\u001b[49m\u001b[43m,\u001b[49m\n\u001b[0;32m    793\u001b[0m \u001b[43m    \u001b[49m\u001b[43murl\u001b[49m\u001b[43m,\u001b[49m\n\u001b[0;32m    794\u001b[0m \u001b[43m    \u001b[49m\u001b[43mtimeout\u001b[49m\u001b[38;5;241;43m=\u001b[39;49m\u001b[43mtimeout_obj\u001b[49m\u001b[43m,\u001b[49m\n\u001b[0;32m    795\u001b[0m \u001b[43m    \u001b[49m\u001b[43mbody\u001b[49m\u001b[38;5;241;43m=\u001b[39;49m\u001b[43mbody\u001b[49m\u001b[43m,\u001b[49m\n\u001b[0;32m    796\u001b[0m \u001b[43m    \u001b[49m\u001b[43mheaders\u001b[49m\u001b[38;5;241;43m=\u001b[39;49m\u001b[43mheaders\u001b[49m\u001b[43m,\u001b[49m\n\u001b[0;32m    797\u001b[0m \u001b[43m    \u001b[49m\u001b[43mchunked\u001b[49m\u001b[38;5;241;43m=\u001b[39;49m\u001b[43mchunked\u001b[49m\u001b[43m,\u001b[49m\n\u001b[0;32m    798\u001b[0m \u001b[43m    \u001b[49m\u001b[43mretries\u001b[49m\u001b[38;5;241;43m=\u001b[39;49m\u001b[43mretries\u001b[49m\u001b[43m,\u001b[49m\n\u001b[0;32m    799\u001b[0m \u001b[43m    \u001b[49m\u001b[43mresponse_conn\u001b[49m\u001b[38;5;241;43m=\u001b[39;49m\u001b[43mresponse_conn\u001b[49m\u001b[43m,\u001b[49m\n\u001b[0;32m    800\u001b[0m \u001b[43m    \u001b[49m\u001b[43mpreload_content\u001b[49m\u001b[38;5;241;43m=\u001b[39;49m\u001b[43mpreload_content\u001b[49m\u001b[43m,\u001b[49m\n\u001b[0;32m    801\u001b[0m \u001b[43m    \u001b[49m\u001b[43mdecode_content\u001b[49m\u001b[38;5;241;43m=\u001b[39;49m\u001b[43mdecode_content\u001b[49m\u001b[43m,\u001b[49m\n\u001b[0;32m    802\u001b[0m \u001b[43m    \u001b[49m\u001b[38;5;241;43m*\u001b[39;49m\u001b[38;5;241;43m*\u001b[39;49m\u001b[43mresponse_kw\u001b[49m\u001b[43m,\u001b[49m\n\u001b[0;32m    803\u001b[0m \u001b[43m\u001b[49m\u001b[43m)\u001b[49m\n\u001b[0;32m    805\u001b[0m \u001b[38;5;66;03m# Everything went great!\u001b[39;00m\n\u001b[0;32m    806\u001b[0m clean_exit \u001b[38;5;241m=\u001b[39m \u001b[38;5;28;01mTrue\u001b[39;00m\n",
      "File \u001b[1;32m~\\AppData\\Local\\Packages\\PythonSoftwareFoundation.Python.3.12_qbz5n2kfra8p0\\LocalCache\\local-packages\\Python312\\site-packages\\urllib3\\connectionpool.py:467\u001b[0m, in \u001b[0;36mHTTPConnectionPool._make_request\u001b[1;34m(self, conn, method, url, body, headers, retries, timeout, chunked, response_conn, preload_content, decode_content, enforce_content_length)\u001b[0m\n\u001b[0;32m    464\u001b[0m \u001b[38;5;28;01mtry\u001b[39;00m:\n\u001b[0;32m    465\u001b[0m     \u001b[38;5;66;03m# Trigger any extra validation we need to do.\u001b[39;00m\n\u001b[0;32m    466\u001b[0m     \u001b[38;5;28;01mtry\u001b[39;00m:\n\u001b[1;32m--> 467\u001b[0m         \u001b[38;5;28;43mself\u001b[39;49m\u001b[38;5;241;43m.\u001b[39;49m\u001b[43m_validate_conn\u001b[49m\u001b[43m(\u001b[49m\u001b[43mconn\u001b[49m\u001b[43m)\u001b[49m\n\u001b[0;32m    468\u001b[0m     \u001b[38;5;28;01mexcept\u001b[39;00m (SocketTimeout, BaseSSLError) \u001b[38;5;28;01mas\u001b[39;00m e:\n\u001b[0;32m    469\u001b[0m         \u001b[38;5;28mself\u001b[39m\u001b[38;5;241m.\u001b[39m_raise_timeout(err\u001b[38;5;241m=\u001b[39me, url\u001b[38;5;241m=\u001b[39murl, timeout_value\u001b[38;5;241m=\u001b[39mconn\u001b[38;5;241m.\u001b[39mtimeout)\n",
      "File \u001b[1;32m~\\AppData\\Local\\Packages\\PythonSoftwareFoundation.Python.3.12_qbz5n2kfra8p0\\LocalCache\\local-packages\\Python312\\site-packages\\urllib3\\connectionpool.py:1096\u001b[0m, in \u001b[0;36mHTTPSConnectionPool._validate_conn\u001b[1;34m(self, conn)\u001b[0m\n\u001b[0;32m   1094\u001b[0m \u001b[38;5;66;03m# Force connect early to allow us to validate the connection.\u001b[39;00m\n\u001b[0;32m   1095\u001b[0m \u001b[38;5;28;01mif\u001b[39;00m conn\u001b[38;5;241m.\u001b[39mis_closed:\n\u001b[1;32m-> 1096\u001b[0m     \u001b[43mconn\u001b[49m\u001b[38;5;241;43m.\u001b[39;49m\u001b[43mconnect\u001b[49m\u001b[43m(\u001b[49m\u001b[43m)\u001b[49m\n\u001b[0;32m   1098\u001b[0m \u001b[38;5;28;01mif\u001b[39;00m \u001b[38;5;129;01mnot\u001b[39;00m conn\u001b[38;5;241m.\u001b[39mis_verified:\n\u001b[0;32m   1099\u001b[0m     warnings\u001b[38;5;241m.\u001b[39mwarn(\n\u001b[0;32m   1100\u001b[0m         (\n\u001b[0;32m   1101\u001b[0m             \u001b[38;5;124mf\u001b[39m\u001b[38;5;124m\"\u001b[39m\u001b[38;5;124mUnverified HTTPS request is being made to host \u001b[39m\u001b[38;5;124m'\u001b[39m\u001b[38;5;132;01m{\u001b[39;00mconn\u001b[38;5;241m.\u001b[39mhost\u001b[38;5;132;01m}\u001b[39;00m\u001b[38;5;124m'\u001b[39m\u001b[38;5;124m. \u001b[39m\u001b[38;5;124m\"\u001b[39m\n\u001b[1;32m   (...)\u001b[0m\n\u001b[0;32m   1106\u001b[0m         InsecureRequestWarning,\n\u001b[0;32m   1107\u001b[0m     )\n",
      "File \u001b[1;32m~\\AppData\\Local\\Packages\\PythonSoftwareFoundation.Python.3.12_qbz5n2kfra8p0\\LocalCache\\local-packages\\Python312\\site-packages\\urllib3\\connection.py:642\u001b[0m, in \u001b[0;36mHTTPSConnection.connect\u001b[1;34m(self)\u001b[0m\n\u001b[0;32m    633\u001b[0m \u001b[38;5;28;01mif\u001b[39;00m is_time_off:\n\u001b[0;32m    634\u001b[0m     warnings\u001b[38;5;241m.\u001b[39mwarn(\n\u001b[0;32m    635\u001b[0m         (\n\u001b[0;32m    636\u001b[0m             \u001b[38;5;124mf\u001b[39m\u001b[38;5;124m\"\u001b[39m\u001b[38;5;124mSystem time is way off (before \u001b[39m\u001b[38;5;132;01m{\u001b[39;00mRECENT_DATE\u001b[38;5;132;01m}\u001b[39;00m\u001b[38;5;124m). This will probably \u001b[39m\u001b[38;5;124m\"\u001b[39m\n\u001b[1;32m   (...)\u001b[0m\n\u001b[0;32m    639\u001b[0m         SystemTimeWarning,\n\u001b[0;32m    640\u001b[0m     )\n\u001b[1;32m--> 642\u001b[0m sock_and_verified \u001b[38;5;241m=\u001b[39m \u001b[43m_ssl_wrap_socket_and_match_hostname\u001b[49m\u001b[43m(\u001b[49m\n\u001b[0;32m    643\u001b[0m \u001b[43m    \u001b[49m\u001b[43msock\u001b[49m\u001b[38;5;241;43m=\u001b[39;49m\u001b[43msock\u001b[49m\u001b[43m,\u001b[49m\n\u001b[0;32m    644\u001b[0m \u001b[43m    \u001b[49m\u001b[43mcert_reqs\u001b[49m\u001b[38;5;241;43m=\u001b[39;49m\u001b[38;5;28;43mself\u001b[39;49m\u001b[38;5;241;43m.\u001b[39;49m\u001b[43mcert_reqs\u001b[49m\u001b[43m,\u001b[49m\n\u001b[0;32m    645\u001b[0m \u001b[43m    \u001b[49m\u001b[43mssl_version\u001b[49m\u001b[38;5;241;43m=\u001b[39;49m\u001b[38;5;28;43mself\u001b[39;49m\u001b[38;5;241;43m.\u001b[39;49m\u001b[43mssl_version\u001b[49m\u001b[43m,\u001b[49m\n\u001b[0;32m    646\u001b[0m \u001b[43m    \u001b[49m\u001b[43mssl_minimum_version\u001b[49m\u001b[38;5;241;43m=\u001b[39;49m\u001b[38;5;28;43mself\u001b[39;49m\u001b[38;5;241;43m.\u001b[39;49m\u001b[43mssl_minimum_version\u001b[49m\u001b[43m,\u001b[49m\n\u001b[0;32m    647\u001b[0m \u001b[43m    \u001b[49m\u001b[43mssl_maximum_version\u001b[49m\u001b[38;5;241;43m=\u001b[39;49m\u001b[38;5;28;43mself\u001b[39;49m\u001b[38;5;241;43m.\u001b[39;49m\u001b[43mssl_maximum_version\u001b[49m\u001b[43m,\u001b[49m\n\u001b[0;32m    648\u001b[0m \u001b[43m    \u001b[49m\u001b[43mca_certs\u001b[49m\u001b[38;5;241;43m=\u001b[39;49m\u001b[38;5;28;43mself\u001b[39;49m\u001b[38;5;241;43m.\u001b[39;49m\u001b[43mca_certs\u001b[49m\u001b[43m,\u001b[49m\n\u001b[0;32m    649\u001b[0m \u001b[43m    \u001b[49m\u001b[43mca_cert_dir\u001b[49m\u001b[38;5;241;43m=\u001b[39;49m\u001b[38;5;28;43mself\u001b[39;49m\u001b[38;5;241;43m.\u001b[39;49m\u001b[43mca_cert_dir\u001b[49m\u001b[43m,\u001b[49m\n\u001b[0;32m    650\u001b[0m \u001b[43m    \u001b[49m\u001b[43mca_cert_data\u001b[49m\u001b[38;5;241;43m=\u001b[39;49m\u001b[38;5;28;43mself\u001b[39;49m\u001b[38;5;241;43m.\u001b[39;49m\u001b[43mca_cert_data\u001b[49m\u001b[43m,\u001b[49m\n\u001b[0;32m    651\u001b[0m \u001b[43m    \u001b[49m\u001b[43mcert_file\u001b[49m\u001b[38;5;241;43m=\u001b[39;49m\u001b[38;5;28;43mself\u001b[39;49m\u001b[38;5;241;43m.\u001b[39;49m\u001b[43mcert_file\u001b[49m\u001b[43m,\u001b[49m\n\u001b[0;32m    652\u001b[0m \u001b[43m    \u001b[49m\u001b[43mkey_file\u001b[49m\u001b[38;5;241;43m=\u001b[39;49m\u001b[38;5;28;43mself\u001b[39;49m\u001b[38;5;241;43m.\u001b[39;49m\u001b[43mkey_file\u001b[49m\u001b[43m,\u001b[49m\n\u001b[0;32m    653\u001b[0m \u001b[43m    \u001b[49m\u001b[43mkey_password\u001b[49m\u001b[38;5;241;43m=\u001b[39;49m\u001b[38;5;28;43mself\u001b[39;49m\u001b[38;5;241;43m.\u001b[39;49m\u001b[43mkey_password\u001b[49m\u001b[43m,\u001b[49m\n\u001b[0;32m    654\u001b[0m \u001b[43m    \u001b[49m\u001b[43mserver_hostname\u001b[49m\u001b[38;5;241;43m=\u001b[39;49m\u001b[43mserver_hostname\u001b[49m\u001b[43m,\u001b[49m\n\u001b[0;32m    655\u001b[0m \u001b[43m    \u001b[49m\u001b[43mssl_context\u001b[49m\u001b[38;5;241;43m=\u001b[39;49m\u001b[38;5;28;43mself\u001b[39;49m\u001b[38;5;241;43m.\u001b[39;49m\u001b[43mssl_context\u001b[49m\u001b[43m,\u001b[49m\n\u001b[0;32m    656\u001b[0m \u001b[43m    \u001b[49m\u001b[43mtls_in_tls\u001b[49m\u001b[38;5;241;43m=\u001b[39;49m\u001b[43mtls_in_tls\u001b[49m\u001b[43m,\u001b[49m\n\u001b[0;32m    657\u001b[0m \u001b[43m    \u001b[49m\u001b[43massert_hostname\u001b[49m\u001b[38;5;241;43m=\u001b[39;49m\u001b[38;5;28;43mself\u001b[39;49m\u001b[38;5;241;43m.\u001b[39;49m\u001b[43massert_hostname\u001b[49m\u001b[43m,\u001b[49m\n\u001b[0;32m    658\u001b[0m \u001b[43m    \u001b[49m\u001b[43massert_fingerprint\u001b[49m\u001b[38;5;241;43m=\u001b[39;49m\u001b[38;5;28;43mself\u001b[39;49m\u001b[38;5;241;43m.\u001b[39;49m\u001b[43massert_fingerprint\u001b[49m\u001b[43m,\u001b[49m\n\u001b[0;32m    659\u001b[0m \u001b[43m\u001b[49m\u001b[43m)\u001b[49m\n\u001b[0;32m    660\u001b[0m \u001b[38;5;28mself\u001b[39m\u001b[38;5;241m.\u001b[39msock \u001b[38;5;241m=\u001b[39m sock_and_verified\u001b[38;5;241m.\u001b[39msocket\n\u001b[0;32m    661\u001b[0m \u001b[38;5;28mself\u001b[39m\u001b[38;5;241m.\u001b[39mis_verified \u001b[38;5;241m=\u001b[39m sock_and_verified\u001b[38;5;241m.\u001b[39mis_verified\n",
      "File \u001b[1;32m~\\AppData\\Local\\Packages\\PythonSoftwareFoundation.Python.3.12_qbz5n2kfra8p0\\LocalCache\\local-packages\\Python312\\site-packages\\urllib3\\connection.py:782\u001b[0m, in \u001b[0;36m_ssl_wrap_socket_and_match_hostname\u001b[1;34m(sock, cert_reqs, ssl_version, ssl_minimum_version, ssl_maximum_version, cert_file, key_file, key_password, ca_certs, ca_cert_dir, ca_cert_data, assert_hostname, assert_fingerprint, server_hostname, ssl_context, tls_in_tls)\u001b[0m\n\u001b[0;32m    779\u001b[0m     \u001b[38;5;28;01mif\u001b[39;00m is_ipaddress(normalized):\n\u001b[0;32m    780\u001b[0m         server_hostname \u001b[38;5;241m=\u001b[39m normalized\n\u001b[1;32m--> 782\u001b[0m ssl_sock \u001b[38;5;241m=\u001b[39m \u001b[43mssl_wrap_socket\u001b[49m\u001b[43m(\u001b[49m\n\u001b[0;32m    783\u001b[0m \u001b[43m    \u001b[49m\u001b[43msock\u001b[49m\u001b[38;5;241;43m=\u001b[39;49m\u001b[43msock\u001b[49m\u001b[43m,\u001b[49m\n\u001b[0;32m    784\u001b[0m \u001b[43m    \u001b[49m\u001b[43mkeyfile\u001b[49m\u001b[38;5;241;43m=\u001b[39;49m\u001b[43mkey_file\u001b[49m\u001b[43m,\u001b[49m\n\u001b[0;32m    785\u001b[0m \u001b[43m    \u001b[49m\u001b[43mcertfile\u001b[49m\u001b[38;5;241;43m=\u001b[39;49m\u001b[43mcert_file\u001b[49m\u001b[43m,\u001b[49m\n\u001b[0;32m    786\u001b[0m \u001b[43m    \u001b[49m\u001b[43mkey_password\u001b[49m\u001b[38;5;241;43m=\u001b[39;49m\u001b[43mkey_password\u001b[49m\u001b[43m,\u001b[49m\n\u001b[0;32m    787\u001b[0m \u001b[43m    \u001b[49m\u001b[43mca_certs\u001b[49m\u001b[38;5;241;43m=\u001b[39;49m\u001b[43mca_certs\u001b[49m\u001b[43m,\u001b[49m\n\u001b[0;32m    788\u001b[0m \u001b[43m    \u001b[49m\u001b[43mca_cert_dir\u001b[49m\u001b[38;5;241;43m=\u001b[39;49m\u001b[43mca_cert_dir\u001b[49m\u001b[43m,\u001b[49m\n\u001b[0;32m    789\u001b[0m \u001b[43m    \u001b[49m\u001b[43mca_cert_data\u001b[49m\u001b[38;5;241;43m=\u001b[39;49m\u001b[43mca_cert_data\u001b[49m\u001b[43m,\u001b[49m\n\u001b[0;32m    790\u001b[0m \u001b[43m    \u001b[49m\u001b[43mserver_hostname\u001b[49m\u001b[38;5;241;43m=\u001b[39;49m\u001b[43mserver_hostname\u001b[49m\u001b[43m,\u001b[49m\n\u001b[0;32m    791\u001b[0m \u001b[43m    \u001b[49m\u001b[43mssl_context\u001b[49m\u001b[38;5;241;43m=\u001b[39;49m\u001b[43mcontext\u001b[49m\u001b[43m,\u001b[49m\n\u001b[0;32m    792\u001b[0m \u001b[43m    \u001b[49m\u001b[43mtls_in_tls\u001b[49m\u001b[38;5;241;43m=\u001b[39;49m\u001b[43mtls_in_tls\u001b[49m\u001b[43m,\u001b[49m\n\u001b[0;32m    793\u001b[0m \u001b[43m\u001b[49m\u001b[43m)\u001b[49m\n\u001b[0;32m    795\u001b[0m \u001b[38;5;28;01mtry\u001b[39;00m:\n\u001b[0;32m    796\u001b[0m     \u001b[38;5;28;01mif\u001b[39;00m assert_fingerprint:\n",
      "File \u001b[1;32m~\\AppData\\Local\\Packages\\PythonSoftwareFoundation.Python.3.12_qbz5n2kfra8p0\\LocalCache\\local-packages\\Python312\\site-packages\\urllib3\\util\\ssl_.py:445\u001b[0m, in \u001b[0;36mssl_wrap_socket\u001b[1;34m(sock, keyfile, certfile, cert_reqs, ca_certs, server_hostname, ssl_version, ciphers, ssl_context, ca_cert_dir, key_password, ca_cert_data, tls_in_tls)\u001b[0m\n\u001b[0;32m    443\u001b[0m \u001b[38;5;28;01mif\u001b[39;00m ca_certs \u001b[38;5;129;01mor\u001b[39;00m ca_cert_dir \u001b[38;5;129;01mor\u001b[39;00m ca_cert_data:\n\u001b[0;32m    444\u001b[0m     \u001b[38;5;28;01mtry\u001b[39;00m:\n\u001b[1;32m--> 445\u001b[0m         \u001b[43mcontext\u001b[49m\u001b[38;5;241;43m.\u001b[39;49m\u001b[43mload_verify_locations\u001b[49m\u001b[43m(\u001b[49m\u001b[43mca_certs\u001b[49m\u001b[43m,\u001b[49m\u001b[43m \u001b[49m\u001b[43mca_cert_dir\u001b[49m\u001b[43m,\u001b[49m\u001b[43m \u001b[49m\u001b[43mca_cert_data\u001b[49m\u001b[43m)\u001b[49m\n\u001b[0;32m    446\u001b[0m     \u001b[38;5;28;01mexcept\u001b[39;00m \u001b[38;5;167;01mOSError\u001b[39;00m \u001b[38;5;28;01mas\u001b[39;00m e:\n\u001b[0;32m    447\u001b[0m         \u001b[38;5;28;01mraise\u001b[39;00m SSLError(e) \u001b[38;5;28;01mfrom\u001b[39;00m \u001b[38;5;21;01me\u001b[39;00m\n",
      "\u001b[1;31mKeyboardInterrupt\u001b[0m: "
     ]
    }
   ],
   "source": [
    "t_end = time.time() + (8*60)\n",
    "while time.time() < t_end:\n",
    "    for idx, item in  enumerate(items):\n",
    "        if bf_client.eventStartedChecker(item[\"betfair_event_id\"]) == True:\n",
    "            operations =[{ \"op\": \"add\", \"path\": \"/fights/\"+str(idx)+\"/fight_start_time\", \"value\": int(time.time()) }]\n",
    "            response = fc_mma_cards.patch_item(item=item[\"id\"], partition_key=item[\"link\"], patch_operations=operations)\n",
    "    \n",
    "    \n",
    "# change this so that it groups the API calls together? rather than doing a single api call for each event..?\n",
    "    "
   ]
  },
  {
   "cell_type": "code",
   "execution_count": null,
   "metadata": {},
   "outputs": [],
   "source": []
  }
 ],
 "metadata": {
  "kernelspec": {
   "display_name": "Python 3",
   "language": "python",
   "name": "python3"
  },
  "language_info": {
   "codemirror_mode": {
    "name": "ipython",
    "version": 3
   },
   "file_extension": ".py",
   "mimetype": "text/x-python",
   "name": "python",
   "nbconvert_exporter": "python",
   "pygments_lexer": "ipython3",
   "version": "3.12.1"
  }
 },
 "nbformat": 4,
 "nbformat_minor": 2
}
