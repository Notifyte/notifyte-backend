{
 "cells": [
  {
   "cell_type": "code",
   "execution_count": 3,
   "metadata": {},
   "outputs": [
    {
     "data": {
      "text/plain": [
       "'02:25'"
      ]
     },
     "execution_count": 3,
     "metadata": {},
     "output_type": "execute_result"
    }
   ],
   "source": [
    "\"2024-02-25T02:25:00.000Z\"[11:16]"
   ]
  },
  {
   "cell_type": "markdown",
   "metadata": {},
   "source": [
    "## Deploy Cosmos Instructios\n",
    "- database\n",
    "- containers\n",
    "    - partitionid?\n",
    "    - uniquekeys?\n",
    "- naming convention\n",
    "\n",
    "V1:\n",
    "Database: fightstore\n",
    "Containers: \n",
    "    name: betfair_mma_events\n",
    "    partitionId: /name\n",
    "\n",
    "    name: fc_mma_cards\n",
    "    partitionId: /link    #can't be title because there are multiple events with the same title\n",
    "\n"
   ]
  },
  {
   "cell_type": "markdown",
   "metadata": {},
   "source": [
    "Deploy function apps\n",
    "\n",
    "create service and backend processor\n",
    "\n",
    "set environment variables\n",
    "\n",
    "set function app key to postman x-functions header in order to manually trigger timer funcs\n",
    "\n"
   ]
  },
  {
   "cell_type": "markdown",
   "metadata": {},
   "source": []
  }
 ],
 "metadata": {
  "kernelspec": {
   "display_name": "Python 3",
   "language": "python",
   "name": "python3"
  },
  "language_info": {
   "codemirror_mode": {
    "name": "ipython",
    "version": 3
   },
   "file_extension": ".py",
   "mimetype": "text/x-python",
   "name": "python",
   "nbconvert_exporter": "python",
   "pygments_lexer": "ipython3",
   "version": "3.10.8"
  }
 },
 "nbformat": 4,
 "nbformat_minor": 2
}
