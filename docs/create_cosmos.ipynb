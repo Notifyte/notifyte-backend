{
 "cells": [
  {
   "cell_type": "code",
   "execution_count": null,
   "metadata": {},
   "outputs": [],
   "source": [
    "conn_string = helpers.read_json(\"config/account_details.json\")[\"cosmos\"][\"conn_string\"]"
   ]
  },
  {
   "cell_type": "markdown",
   "metadata": {},
   "source": [
    "## Deploy Cosmos Instructios\n",
    "- database\n",
    "- containers\n",
    "    - partitionid?\n",
    "    - uniquekeys?\n",
    "- naming convention\n",
    "\n",
    "V1:\n",
    "Database: fightstore\n",
    "Containers: \n",
    "    name: betfair_mma_events\n",
    "    partitionId: /name\n",
    "\n",
    "    name: fc_mma_cards\n",
    "    partitionId: /link    #can't be title because there are multiple events with the same title\n",
    "\n"
   ]
  },
  {
   "cell_type": "markdown",
   "metadata": {},
   "source": [
    "Deploy function apps\n",
    "\n",
    "create service and backend processor\n",
    "\n",
    "set environment variables\n",
    "\n",
    "set function app key to postman x-functions header in order to manually trigger timer funcs\n",
    "\n"
   ]
  },
  {
   "cell_type": "markdown",
   "metadata": {},
   "source": []
  }
 ],
 "metadata": {
  "language_info": {
   "name": "python"
  }
 },
 "nbformat": 4,
 "nbformat_minor": 2
}
