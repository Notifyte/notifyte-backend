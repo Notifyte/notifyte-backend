{
 "cells": [
  {
   "cell_type": "code",
   "execution_count": 6,
   "metadata": {},
   "outputs": [],
   "source": [
    "import sys\n",
    "sys.path.append(\"..\")\n",
    "from shared_utilities.Betfair import BetfairClient\n",
    "from shared_utilities import helpers\n",
    "from azure.cosmos import CosmosClient"
   ]
  },
  {
   "cell_type": "code",
   "execution_count": 7,
   "metadata": {},
   "outputs": [],
   "source": [
    "delay_api_key = helpers.read_json(\"../local.settings.json\")[\"Values\"][\"betfair_delay_api_key\"]\n",
    "username = helpers.read_json(\"../local.settings.json\")[\"Values\"][\"betfair_username\"]\n",
    "password = helpers.read_json(\"../local.settings.json\")[\"Values\"][\"betfair_password\"]\n",
    "mma_id = 26420387\n",
    "boxing_id = 6"
   ]
  },
  {
   "cell_type": "code",
   "execution_count": 8,
   "metadata": {},
   "outputs": [],
   "source": [
    "# initialise this too many times (too many session tokens) and you will get locked out !\n",
    "bf_client = BetfairClient(delay_api_key, username, password)"
   ]
  },
  {
   "cell_type": "code",
   "execution_count": 9,
   "metadata": {},
   "outputs": [],
   "source": [
    "data = bf_client.listEvents(mma_id)\n",
    "data = bf_client.processEvents(data)"
   ]
  },
  {
   "cell_type": "code",
   "execution_count": 10,
   "metadata": {},
   "outputs": [],
   "source": [
    "conn_string = helpers.read_json(\"../local.settings.json\")[\"Values\"][\"cosmosdb_deets\"]\n",
    "storageClient = CosmosClient.from_connection_string(conn_str=conn_string)\n",
    "database = storageClient.get_database_client(\"fightstore\")\n",
    "container = database.get_container_client(\"betfair_mma_events\")"
   ]
  },
  {
   "cell_type": "code",
   "execution_count": 11,
   "metadata": {},
   "outputs": [],
   "source": [
    "existing_items = [i[\"id\"] for i in container.read_all_items()]\n",
    "# update item or create if not exist.\n",
    "# TODO: is id always unique???\n",
    "\n",
    "for i in data:\n",
    "    if i[\"id\"] in existing_items:\n",
    "        container.upsert_item(i)\n",
    "        \n",
    "    else:\n",
    "        container.create_item(i)"
   ]
  },
  {
   "cell_type": "code",
   "execution_count": null,
   "metadata": {},
   "outputs": [],
   "source": [
    "data[0]\n",
    "# container.upsert_item(data[0])"
   ]
  },
  {
   "cell_type": "code",
   "execution_count": null,
   "metadata": {},
   "outputs": [],
   "source": [
    "[i[\"id\"] for i in container.read_all_items()]"
   ]
  },
  {
   "cell_type": "code",
   "execution_count": null,
   "metadata": {},
   "outputs": [],
   "source": []
  },
  {
   "cell_type": "code",
   "execution_count": null,
   "metadata": {},
   "outputs": [],
   "source": [
    "id = 1.223915790"
   ]
  },
  {
   "cell_type": "code",
   "execution_count": null,
   "metadata": {},
   "outputs": [],
   "source": [
    "bf_client.eventStartedChecker(1.223879307)"
   ]
  },
  {
   "cell_type": "code",
   "execution_count": null,
   "metadata": {},
   "outputs": [],
   "source": [
    "bf_client.getMarkets(1.223879307,\"True\")"
   ]
  },
  {
   "cell_type": "code",
   "execution_count": null,
   "metadata": {},
   "outputs": [],
   "source": []
  }
 ],
 "metadata": {
  "kernelspec": {
   "display_name": "Python 3",
   "language": "python",
   "name": "python3"
  },
  "language_info": {
   "codemirror_mode": {
    "name": "ipython",
    "version": 3
   },
   "file_extension": ".py",
   "mimetype": "text/x-python",
   "name": "python",
   "nbconvert_exporter": "python",
   "pygments_lexer": "ipython3",
   "version": "3.12.1"
  }
 },
 "nbformat": 4,
 "nbformat_minor": 2
}
